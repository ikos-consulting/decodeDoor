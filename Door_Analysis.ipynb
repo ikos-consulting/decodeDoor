{
 "cells": [
  {
   "cell_type": "code",
   "execution_count": 15,
   "metadata": {},
   "outputs": [],
   "source": [
    "import os\n",
    "import numpy as np\n",
    "import pandas as pd\n",
    "import bokeh"
   ]
  },
  {
   "cell_type": "code",
   "execution_count": 2,
   "metadata": {
    "scrolled": true
   },
   "outputs": [],
   "source": [
    "#Init Repo Data\n",
    "Repo_data = \"C:/Users/Consultant/Desktop/decodeDoor/data_decode/data/\"\n",
    "listfile_data = os.listdir(Repo_data)"
   ]
  },
  {
   "cell_type": "code",
   "execution_count": 3,
   "metadata": {},
   "outputs": [],
   "source": [
    "#Combine les fichier csv de Data en DataFrame - combined_data\n",
    "os.chdir(Repo_data)\n",
    "combined_data = pd.concat([pd.read_csv(f) for f in listfile_data ], ignore_index=True)"
   ]
  },
  {
   "cell_type": "code",
   "execution_count": 6,
   "metadata": {},
   "outputs": [],
   "source": [
    "#Init Repo Metadata\n",
    "Repo_meta = \"C:/Users/Consultant/Desktop/decodeDoor/data_decode/metadata/\"\n",
    "listfile_meta = os.listdir(Repo_meta)"
   ]
  },
  {
   "cell_type": "code",
   "execution_count": 7,
   "metadata": {},
   "outputs": [],
   "source": [
    "os.chdir(Repo_meta)\n",
    "combined_meta = pd.concat([pd.read_csv(f) for f in listfile_meta ], ignore_index=True)"
   ]
  },
  {
   "cell_type": "code",
   "execution_count": 94,
   "metadata": {},
   "outputs": [],
   "source": [
    "if(combined_meta.iloc[0][0] == combined_data.iloc[0][53]):\n",
    "        data = pd.merge(combined_data, combined_meta, how='inner', on=['ID'])"
   ]
  },
  {
   "cell_type": "code",
   "execution_count": 121,
   "metadata": {
    "scrolled": true
   },
   "outputs": [
    {
     "data": {
      "text/plain": [
       "46"
      ]
     },
     "execution_count": 121,
     "metadata": {},
     "output_type": "execute_result"
    }
   ],
   "source": [
    "test = data[data[\"Présence d'un défaut\"] != 0]\n",
    "t = bin(test[\"Code du défaut présent- Cf.Tableau des defauts\"].iloc[0])\n",
    "len(t)\n",
    "len('1000000000000000000000000000000000000000000000')"
   ]
  },
  {
   "cell_type": "code",
   "execution_count": 122,
   "metadata": {},
   "outputs": [
    {
     "data": {
      "text/plain": [
       "46"
      ]
     },
     "execution_count": 122,
     "metadata": {},
     "output_type": "execute_result"
    }
   ],
   "source": [
    "len('1000000000000000000000000000000000000000000000')\n"
   ]
  },
  {
   "cell_type": "code",
   "execution_count": 10,
   "metadata": {
    "scrolled": true
   },
   "outputs": [
    {
     "data": {
      "text/plain": [
       "TimeStamp                                             object\n",
       "Sleepmode                                              int64\n",
       "Transition                                             int64\n",
       "LT-V-DVR est active                                    int64\n",
       "LT-V<2 est active                                      int64\n",
       "LT-AO1 est active                                      int64\n",
       "LT-AO2 est active                                      int64\n",
       "LT-Ads est active                                      int64\n",
       "LT-Acq est active                                      int64\n",
       "LT-CF est active                                       int64\n",
       "LT-CF2 est active                                      int64\n",
       "LT-IH-UFR est active                                   int64\n",
       "LT-IF est active                                       int64\n",
       "LT-W est active                                        int64\n",
       "LT-OC est active                                       int64\n",
       "Fin de course porte verrouillé activé                  int64\n",
       "Fin de course porte fermé activé                       int64\n",
       "Fin de course 1 de condamnation porte activé           int64\n",
       "Fin de course 2 de condamnation porte activé           int64\n",
       "Fin de course CLA complétement fermé activé            int64\n",
       "Fin de course CLA fermé activé                         int64\n",
       "Fin de course CLA isolé activé                         int64\n",
       "Fin de course CLA 1 de condamnation activé             int64\n",
       "Fin de course CLA 2 de condamnation activé             int64\n",
       "BP d'ouverture int activé                              int64\n",
       "BP d'ouverture ext activé                              int64\n",
       "BP de dev d'urgence porte activé                       int64\n",
       "Carré de forçage en ouverture du CLA activé            int64\n",
       "Carré de forçage en fermeture du CLA activé            int64\n",
       "Poigné de dev d'urgence porte activé                   int64\n",
       "                                                      ...   \n",
       "Voyant de fermeture : Clignotant                       int64\n",
       "Voyant BP d'ouverture int : Clignotant                 int64\n",
       "Voyant BP d'ouverture ext : Clignotant                 int64\n",
       "Voyant BP de dev d'urgence : Clignotant                int64\n",
       "Présence d'un défaut                                   int64\n",
       "Code du défaut présent- Cf.Tableau des defauts         int64\n",
       "Courant moteur de la porte                             int64\n",
       "Tension moteur de la porte                             int64\n",
       "Position moteur de la porte                            int64\n",
       "Courant moteur de la marche mobile                     int64\n",
       "Tension moteur de la marche mobile                     int64\n",
       "Position moteur de la marche mobile                    int64\n",
       "ID                                                    object\n",
       "Date Depart                                           object\n",
       "Unique serial number                                  object\n",
       "Device instance indication enumeration in the car      int64\n",
       "Device type e.g   DCU= 85                              int64\n",
       "Customer Code for the current trip. Utf-8             object\n",
       "Previous station identifier                            int64\n",
       "Next station identifier                                int64\n",
       "Outside Air Temperature(en degré)                    float64\n",
       "Version du CBM                                         int64\n",
       "Nombre Octets Alloués pour les IOs                     int64\n",
       "Nombre Octets Alloués pour les Analogs                 int64\n",
       "Nombre de Variables Echantillons                       int64\n",
       "Nombre de Variables Entêtes Specifiques                int64\n",
       "Taille de la zone de data (octet)                      int64\n",
       "Nombre Enregistrements                                 int64\n",
       "Temps de démarrage (s)                                 int64\n",
       "Temps entre deux échantillons (ms)                     int64\n",
       "Length: 71, dtype: object"
      ]
     },
     "execution_count": 10,
     "metadata": {},
     "output_type": "execute_result"
    }
   ],
   "source": [
    "data.dtypes"
   ]
  },
  {
   "cell_type": "code",
   "execution_count": 64,
   "metadata": {},
   "outputs": [
    {
     "data": {
      "text/plain": [
       "0          Sunday, April 14, 2019 04:41:18 PM\n",
       "1          Sunday, April 14, 2019 04:41:18 PM\n",
       "2          Sunday, April 14, 2019 04:41:18 PM\n",
       "3          Sunday, April 14, 2019 04:41:18 PM\n",
       "4          Sunday, April 14, 2019 04:41:18 PM\n",
       "5          Sunday, April 14, 2019 04:41:18 PM\n",
       "6          Sunday, April 14, 2019 04:41:18 PM\n",
       "7          Sunday, April 14, 2019 04:41:18 PM\n",
       "8          Sunday, April 14, 2019 04:41:18 PM\n",
       "9          Sunday, April 14, 2019 04:41:18 PM\n",
       "10         Sunday, April 14, 2019 04:41:18 PM\n",
       "11         Sunday, April 14, 2019 04:41:18 PM\n",
       "12         Sunday, April 14, 2019 04:41:18 PM\n",
       "13         Sunday, April 14, 2019 04:41:18 PM\n",
       "14         Sunday, April 14, 2019 04:41:18 PM\n",
       "15         Sunday, April 14, 2019 04:41:18 PM\n",
       "16         Sunday, April 14, 2019 04:41:18 PM\n",
       "17         Sunday, April 14, 2019 04:41:18 PM\n",
       "18         Sunday, April 14, 2019 04:41:18 PM\n",
       "19         Sunday, April 14, 2019 04:41:18 PM\n",
       "20         Sunday, April 14, 2019 04:41:18 PM\n",
       "21         Sunday, April 14, 2019 04:41:18 PM\n",
       "22         Sunday, April 14, 2019 04:41:18 PM\n",
       "23         Sunday, April 14, 2019 04:41:18 PM\n",
       "24         Sunday, April 14, 2019 04:41:18 PM\n",
       "25         Sunday, April 14, 2019 04:41:18 PM\n",
       "26         Sunday, April 14, 2019 04:41:18 PM\n",
       "27         Sunday, April 14, 2019 04:41:18 PM\n",
       "28         Sunday, April 14, 2019 04:41:18 PM\n",
       "29         Sunday, April 14, 2019 04:41:18 PM\n",
       "                         ...                 \n",
       "39715    Thursday, April 18, 2019 11:01:34 AM\n",
       "39716    Thursday, April 18, 2019 11:01:34 AM\n",
       "39717    Thursday, April 18, 2019 11:01:34 AM\n",
       "39718    Thursday, April 18, 2019 11:01:34 AM\n",
       "39719    Thursday, April 18, 2019 11:01:34 AM\n",
       "39720    Thursday, April 18, 2019 11:01:34 AM\n",
       "39721    Thursday, April 18, 2019 11:04:53 AM\n",
       "39722    Thursday, April 18, 2019 11:04:53 AM\n",
       "39723    Thursday, April 18, 2019 11:04:53 AM\n",
       "39724    Thursday, April 18, 2019 11:04:53 AM\n",
       "39725    Thursday, April 18, 2019 11:04:53 AM\n",
       "39726    Thursday, April 18, 2019 11:04:53 AM\n",
       "39727    Thursday, April 18, 2019 11:04:53 AM\n",
       "39728    Thursday, April 18, 2019 11:04:53 AM\n",
       "39729    Thursday, April 18, 2019 11:04:53 AM\n",
       "39730    Thursday, April 18, 2019 11:04:53 AM\n",
       "39731    Thursday, April 18, 2019 11:04:53 AM\n",
       "39732    Thursday, April 18, 2019 11:04:53 AM\n",
       "39733    Thursday, April 18, 2019 11:04:53 AM\n",
       "39734    Thursday, April 18, 2019 11:04:53 AM\n",
       "39735    Thursday, April 18, 2019 11:04:53 AM\n",
       "39736    Thursday, April 18, 2019 11:04:53 AM\n",
       "39737    Thursday, April 18, 2019 11:04:53 AM\n",
       "39738    Thursday, April 18, 2019 11:04:53 AM\n",
       "39739    Thursday, April 18, 2019 11:04:53 AM\n",
       "39740    Thursday, April 18, 2019 11:04:53 AM\n",
       "39741    Thursday, April 18, 2019 11:04:53 AM\n",
       "39742    Thursday, April 18, 2019 11:04:53 AM\n",
       "39743    Thursday, April 18, 2019 11:04:53 AM\n",
       "39744    Thursday, April 18, 2019 11:04:53 AM\n",
       "Name: Date Depart, Length: 3181, dtype: object"
      ]
     },
     "execution_count": 64,
     "metadata": {},
     "output_type": "execute_result"
    }
   ],
   "source": [
    "k = 'z5700015________zr_57_83015_____dcu4____________dcucbmdata______190415_043212'\n",
    "data_spec = data[data['Sleepmode'] == 1]\n",
    "data_spec['Date Depart']"
   ]
  },
  {
   "cell_type": "code",
   "execution_count": 61,
   "metadata": {
    "scrolled": false
   },
   "outputs": [
    {
     "data": {
      "image/png": "[encoded data removed]",
      "text/plain": [
       "<Figure size 432x288 with 1 Axes>"
      ]
     },
     "metadata": {
      "needs_background": "light"
     },
     "output_type": "display_data"
    }
   ],
   "source": [
    "import matplotlib.pyplot as plt\n",
    "\n",
    "fig = plt.figure()\n",
    "ax = fig.add_subplot(111)\n",
    "ax.plot(test['TimeStamp'], test['Courant moteur de la porte'], color='lightblue', linewidth=3)\n",
    "plt.savefig('test.png')\n",
    "plt.show()"
   ]
  }
 ],
 "metadata": {
  "kernelspec": {
   "display_name": "Python 3",
   "language": "python",
   "name": "python3"
  },
  "language_info": {
   "codemirror_mode": {
    "name": "ipython",
    "version": 3
   },
   "file_extension": ".py",
   "mimetype": "text/x-python",
   "name": "python",
   "nbconvert_exporter": "python",
   "pygments_lexer": "ipython3",
   "version": "3.7.3"
  }
 },
 "nbformat": 4,
 "nbformat_minor": 2
}
